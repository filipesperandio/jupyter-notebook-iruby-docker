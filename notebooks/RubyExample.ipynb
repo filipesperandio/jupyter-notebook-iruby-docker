{
 "cells": [
  {
   "cell_type": "code",
   "execution_count": null,
   "id": "a40d33b5-4d92-404e-8dcf-76c9ccac20cd",
   "metadata": {},
   "outputs": [],
   "source": [
    "require_relative 'db_utils'\n",
    "\n",
    "\n",
    "class User < ActiveRecord::Base\n",
    "    self.table_name = \"model.users\"\n",
    "end\n",
    "\n"
   ]
  },
  {
   "cell_type": "code",
   "execution_count": null,
   "id": "460171c7-4686-4b01-b531-e89dcca986c9",
   "metadata": {},
   "outputs": [],
   "source": [
    "\n",
    "User.count"
   ]
  }
 ],
 "metadata": {
  "kernelspec": {
   "display_name": "Ruby 3.0.6",
   "language": "ruby",
   "name": "ruby"
  },
  "language_info": {
   "file_extension": ".rb",
   "mimetype": "application/x-ruby",
   "name": "ruby",
   "version": "3.0.6"
  }
 },
 "nbformat": 4,
 "nbformat_minor": 5
}
